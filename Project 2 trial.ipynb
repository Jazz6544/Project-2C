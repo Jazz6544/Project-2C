{
 "cells": [
  {
   "cell_type": "markdown",
   "id": "a0ae12eb",
   "metadata": {},
   "source": [
    "### Scientific question: What is the molecular basis of naturally developed human CCR5 mutation in HIV resistance?\n"
   ]
  },
  {
   "cell_type": "markdown",
   "id": "11234b58",
   "metadata": {},
   "source": [
    "### Hypothesis: If a mutation occurs on CCR5 that can influence the conformational integrity or structure of this molecule, which results in impaired CCR5 expression at cell surface or binding to gp120 expressed by HIV, then the cell carrying this mutation will be resistant to HIV infection."
   ]
  },
  {
   "cell_type": "markdown",
   "id": "f586e77d",
   "metadata": {},
   "source": [
    "### Packages"
   ]
  },
  {
   "cell_type": "markdown",
   "id": "d08dbcd0",
   "metadata": {},
   "source": [
    "### Structural bioinformatics 3D protein measurement"
   ]
  },
  {
   "cell_type": "code",
   "execution_count": 1,
   "id": "ac93e990",
   "metadata": {},
   "outputs": [
    {
     "data": {
      "application/vnd.jupyter.widget-view+json": {
       "model_id": "c8d995255105430286bbea13e8952733",
       "version_major": 2,
       "version_minor": 0
      },
      "text/plain": []
     },
     "metadata": {},
     "output_type": "display_data"
    },
    {
     "data": {
      "application/vnd.jupyter.widget-view+json": {
       "model_id": "79d2cb5e51024bb88792a7174479588b",
       "version_major": 2,
       "version_minor": 0
      },
      "text/plain": [
       "NGLWidget()"
      ]
     },
     "metadata": {},
     "output_type": "display_data"
    }
   ],
   "source": [
    "import nglview as nv\n",
    "\n",
    "# view structure of CD4-gp120-CXCR5 complex by reading in a pdb file\n",
    "# https://www.rcsb.org/structure/6MET\n",
    "view_6met=nv.show_structure_file('6met_CD4_gp120_CCR5.pdb')\n",
    "view_6met"
   ]
  },
  {
   "cell_type": "code",
   "execution_count": 2,
   "id": "65ba99ba",
   "metadata": {},
   "outputs": [],
   "source": [
    "# clear imported representations\n",
    "view_6met.clear()\n",
    "# demonstrate the structure in ribbon format using chainindex as color scheme\n",
    "# https://projects.volkamerlab.org/teachopencadd/talktorials/T017_advanced_nglview_usage.html\n",
    "view_6met.add_ribbon(\"protein\", color_scheme=\"chainindex\")\n",
    "\n",
    "# how to color protein complex by chains?"
   ]
  },
  {
   "cell_type": "markdown",
   "id": "4e7aea55",
   "metadata": {},
   "source": [
    "### Homology Modeling\n",
    "Homology modeling performed by SWISS-MODEL to obtain protein structures of CCR5 mutant alleles. https://swissmodel.expasy.org/"
   ]
  },
  {
   "cell_type": "code",
   "execution_count": 3,
   "id": "3f8f2072",
   "metadata": {},
   "outputs": [
    {
     "data": {
      "application/vnd.jupyter.widget-view+json": {
       "model_id": "d101c5226219478e9ddff9f0bd03ad3b",
       "version_major": 2,
       "version_minor": 0
      },
      "text/plain": [
       "NGLWidget()"
      ]
     },
     "metadata": {},
     "output_type": "display_data"
    }
   ],
   "source": [
    "# structure of wild-type human CCR5 obtained from the complex shown above\n",
    "CCR5=nv.show_structure_file('CCR5.pdb')\n",
    "CCR5.clear()\n",
    "CCR5.add_cartoon('protein',color='blue')\n",
    "CCR5"
   ]
  },
  {
   "cell_type": "code",
   "execution_count": 4,
   "id": "f45c3c58",
   "metadata": {},
   "outputs": [
    {
     "data": {
      "application/vnd.jupyter.widget-view+json": {
       "model_id": "18db0193db5640d9911bca130ec3e5de",
       "version_major": 2,
       "version_minor": 0
      },
      "text/plain": [
       "NGLWidget()"
      ]
     },
     "metadata": {},
     "output_type": "display_data"
    }
   ],
   "source": [
    "# structure of human CCR5 with delta-32 mutation\n",
    "delta_32=nv.show_structure_file('CCR5_delta_32.pdb')\n",
    "delta_32.clear()\n",
    "delta_32.add_cartoon('protein',color='red')\n",
    "delta_32"
   ]
  },
  {
   "cell_type": "code",
   "execution_count": 5,
   "id": "ae76c8f8",
   "metadata": {},
   "outputs": [
    {
     "data": {
      "application/vnd.jupyter.widget-view+json": {
       "model_id": "9a351ab259454e919f082c04fe66d2f0",
       "version_major": 2,
       "version_minor": 0
      },
      "text/plain": [
       "NGLWidget()"
      ]
     },
     "metadata": {},
     "output_type": "display_data"
    }
   ],
   "source": [
    "# structure of human CCR5 with C20S mutation\n",
    "C20S=nv.show_structure_file('C20S.pdb')\n",
    "C20S.clear()\n",
    "C20S.add_cartoon('protein',color='orange')\n",
    "C20S"
   ]
  },
  {
   "cell_type": "code",
   "execution_count": 6,
   "id": "4afcb7ab",
   "metadata": {},
   "outputs": [
    {
     "data": {
      "application/vnd.jupyter.widget-view+json": {
       "model_id": "fb9309f94ae241419bc1375bfd49f05b",
       "version_major": 2,
       "version_minor": 0
      },
      "text/plain": [
       "NGLWidget()"
      ]
     },
     "metadata": {},
     "output_type": "display_data"
    }
   ],
   "source": [
    "# structure of human CCR5 with C101A mutation\n",
    "C101A=nv.show_structure_file('C101A.pdb')\n",
    "C101A.clear()\n",
    "C101A.add_cartoon('protein',color='green')\n",
    "C101A"
   ]
  },
  {
   "cell_type": "markdown",
   "id": "6f5f631d",
   "metadata": {},
   "source": [
    "### Multiple sequence alignment\n",
    "Multiple sequence alignment preformed with Clustal Omega using amino acid sequences of beta-chemokine receptors. https://www.ebi.ac.uk/Tools/msa/clustalo/"
   ]
  },
  {
   "cell_type": "code",
   "execution_count": 7,
   "id": "37d73c42",
   "metadata": {},
   "outputs": [
    {
     "name": "stdout",
     "output_type": "stream",
     "text": [
      "Alignment with 8 rows and 396 columns\n",
      "M-----------------------DYQVSSPIYDINYY------...--- lcl|Query_10001\n",
      "M----------------ETPNTTEDYDTTTEFD----------Y...--- lcl|Query_10002\n",
      "ML------STSRSRF---IRNTNESGEEVTTFFDYDY-------...--- lcl|Query_10003\n",
      "MP------FGIRMLLRAHKPGSSRRSEMTTSLDTVETFGTTSYY...--- lcl|Query_10004\n",
      "M-------------------NPTDIADTTLDESIYSNY---YLY...--- lcl|Query_10005\n",
      "MS-GESMNFSDVF------------DSSEDYFVSVNTSYYSVDS...FTM lcl|Query_10006\n",
      "MDLGKPMKSVLVVALLVIFQVCLCQDEVTDDYIGDNTT---VDY...FSP lcl|Query_10007\n",
      "MD------YTLDLSV-----------TTVTDYYYPDIF------...--- lcl|Query_10008\n"
     ]
    }
   ],
   "source": [
    "from Bio import AlignIO\n",
    "\n",
    "alignments = AlignIO.read(open(\"CCR_alignment.aln\"), \"clustal\")\n",
    "print(alignments)"
   ]
  },
  {
   "cell_type": "markdown",
   "id": "2ced94d0",
   "metadata": {},
   "source": [
    "### Sequence logos\n",
    "https://www.tije.co/post/seqlogo_from_multiple_sequence_alignment/"
   ]
  },
  {
   "cell_type": "code",
   "execution_count": 8,
   "id": "1d249c99",
   "metadata": {},
   "outputs": [
    {
     "name": "stdout",
     "output_type": "stream",
     "text": [
      "Requirement already satisfied: seqlogo in c:\\users\\jazz\\anaconda3\\lib\\site-packages (5.29.8)\n",
      "Requirement already satisfied: ghostscript in c:\\users\\jazz\\anaconda3\\lib\\site-packages (from seqlogo) (0.7)\n",
      "Requirement already satisfied: pytest in c:\\users\\jazz\\anaconda3\\lib\\site-packages (from seqlogo) (6.2.4)\n",
      "Requirement already satisfied: pandas in c:\\users\\jazz\\anaconda3\\lib\\site-packages (from seqlogo) (1.3.4)\n",
      "Requirement already satisfied: weblogo in c:\\users\\jazz\\anaconda3\\lib\\site-packages (from seqlogo) (3.7.11)\n",
      "Requirement already satisfied: numpy in c:\\users\\jazz\\anaconda3\\lib\\site-packages (from seqlogo) (1.20.3)\n",
      "Requirement already satisfied: setuptools>=38.6.0 in c:\\users\\jazz\\anaconda3\\lib\\site-packages (from ghostscript->seqlogo) (58.0.4)\n",
      "Requirement already satisfied: python-dateutil>=2.7.3 in c:\\users\\jazz\\anaconda3\\lib\\site-packages (from pandas->seqlogo) (2.8.2)\n",
      "Requirement already satisfied: pytz>=2017.3 in c:\\users\\jazz\\anaconda3\\lib\\site-packages (from pandas->seqlogo) (2021.3)\n",
      "Requirement already satisfied: six>=1.5 in c:\\users\\jazz\\anaconda3\\lib\\site-packages (from python-dateutil>=2.7.3->pandas->seqlogo) (1.16.0)\n",
      "Requirement already satisfied: attrs>=19.2.0 in c:\\users\\jazz\\anaconda3\\lib\\site-packages (from pytest->seqlogo) (21.2.0)\n",
      "Requirement already satisfied: iniconfig in c:\\users\\jazz\\anaconda3\\lib\\site-packages (from pytest->seqlogo) (1.1.1)\n",
      "Requirement already satisfied: packaging in c:\\users\\jazz\\anaconda3\\lib\\site-packages (from pytest->seqlogo) (21.0)\n",
      "Requirement already satisfied: pluggy<1.0.0a1,>=0.12 in c:\\users\\jazz\\anaconda3\\lib\\site-packages (from pytest->seqlogo) (0.13.1)\n",
      "Requirement already satisfied: py>=1.8.2 in c:\\users\\jazz\\anaconda3\\lib\\site-packages (from pytest->seqlogo) (1.10.0)\n",
      "Requirement already satisfied: toml in c:\\users\\jazz\\anaconda3\\lib\\site-packages (from pytest->seqlogo) (0.10.2)\n",
      "Requirement already satisfied: atomicwrites>=1.0 in c:\\users\\jazz\\anaconda3\\lib\\site-packages (from pytest->seqlogo) (1.4.0)\n",
      "Requirement already satisfied: colorama in c:\\users\\jazz\\anaconda3\\lib\\site-packages (from pytest->seqlogo) (0.4.4)\n",
      "Requirement already satisfied: pyparsing>=2.0.2 in c:\\users\\jazz\\anaconda3\\lib\\site-packages (from packaging->pytest->seqlogo) (3.0.4)\n",
      "Requirement already satisfied: scipy in c:\\users\\jazz\\anaconda3\\lib\\site-packages (from weblogo->seqlogo) (1.8.0)\n",
      "Note: you may need to restart the kernel to use updated packages.\n"
     ]
    }
   ],
   "source": [
    "pip install seqlogo"
   ]
  },
  {
   "cell_type": "code",
   "execution_count": 9,
   "id": "6f497721",
   "metadata": {
    "scrolled": true
   },
   "outputs": [
    {
     "name": "stdout",
     "output_type": "stream",
     "text": [
      "\n",
      "Note: you may need to restart the kernel to use updated packages.\n"
     ]
    }
   ],
   "source": [
    "conda install -c conda-forge ghostscript"
   ]
  },
  {
   "cell_type": "code",
   "execution_count": 10,
   "id": "b124d36a",
   "metadata": {},
   "outputs": [
    {
     "name": "stdout",
     "output_type": "stream",
     "text": [
      "\n",
      "Note: you may need to restart the kernel to use updated packages.\n"
     ]
    }
   ],
   "source": [
    "conda install -c conda-forge pdf2svg"
   ]
  },
  {
   "cell_type": "code",
   "execution_count": 11,
   "id": "92ff1059",
   "metadata": {},
   "outputs": [
    {
     "name": "stdout",
     "output_type": "stream",
     "text": [
      "\n",
      "Note: you may need to restart the kernel to use updated packages.\n"
     ]
    }
   ],
   "source": [
    "conda env create -f environment.yml"
   ]
  },
  {
   "cell_type": "code",
   "execution_count": 12,
   "id": "f5b5d229",
   "metadata": {},
   "outputs": [],
   "source": [
    "from Bio import AlignIO\n",
    "import pandas as pd\n",
    "import seqlogo"
   ]
  },
  {
   "cell_type": "code",
   "execution_count": 13,
   "id": "85003835",
   "metadata": {
    "scrolled": true
   },
   "outputs": [
    {
     "data": {
      "text/plain": [
       "<<class 'Bio.Align.MultipleSeqAlignment'> instance (8 records of length 396) at 15f56f5b970>"
      ]
     },
     "execution_count": 13,
     "metadata": {},
     "output_type": "execute_result"
    }
   ],
   "source": [
    "CCR_alignmentfile = \"CCR_alignment.aln\"\n",
    "CCR_alignment = AlignIO.read(CCR_alignmentfile, \"clustal\")\n",
    "CCR_alignment"
   ]
  },
  {
   "cell_type": "code",
   "execution_count": 14,
   "id": "f4a89cfd",
   "metadata": {},
   "outputs": [],
   "source": [
    "def alnDF(aln, characters=\"ACDEFGHIKLMNPQRSTVWY\"):\n",
    "  alnRows = aln.get_alignment_length()\n",
    "  compDict = {char:[0]*alnRows for char in characters}\n",
    "  for record in aln:\n",
    "    header = record.id\n",
    "    seq = record.seq\n",
    "    for aaPos in range(len(seq)):\n",
    "      aa = seq[aaPos]\n",
    "      if aa in characters:\n",
    "        compDict[aa][aaPos] += 1    \n",
    "  return pd.DataFrame.from_dict(compDict)"
   ]
  },
  {
   "cell_type": "code",
   "execution_count": 15,
   "id": "22f0be5f",
   "metadata": {},
   "outputs": [
    {
     "data": {
      "text/html": [
       "<div>\n",
       "<style scoped>\n",
       "    .dataframe tbody tr th:only-of-type {\n",
       "        vertical-align: middle;\n",
       "    }\n",
       "\n",
       "    .dataframe tbody tr th {\n",
       "        vertical-align: top;\n",
       "    }\n",
       "\n",
       "    .dataframe thead th {\n",
       "        text-align: right;\n",
       "    }\n",
       "</style>\n",
       "<table border=\"1\" class=\"dataframe\">\n",
       "  <thead>\n",
       "    <tr style=\"text-align: right;\">\n",
       "      <th></th>\n",
       "      <th>A</th>\n",
       "      <th>C</th>\n",
       "      <th>D</th>\n",
       "      <th>E</th>\n",
       "      <th>F</th>\n",
       "      <th>G</th>\n",
       "      <th>H</th>\n",
       "      <th>I</th>\n",
       "      <th>K</th>\n",
       "      <th>L</th>\n",
       "      <th>M</th>\n",
       "      <th>N</th>\n",
       "      <th>P</th>\n",
       "      <th>Q</th>\n",
       "      <th>R</th>\n",
       "      <th>S</th>\n",
       "      <th>T</th>\n",
       "      <th>V</th>\n",
       "      <th>W</th>\n",
       "      <th>Y</th>\n",
       "    </tr>\n",
       "  </thead>\n",
       "  <tbody>\n",
       "    <tr>\n",
       "      <th>0</th>\n",
       "      <td>0</td>\n",
       "      <td>0</td>\n",
       "      <td>0</td>\n",
       "      <td>0</td>\n",
       "      <td>0</td>\n",
       "      <td>0</td>\n",
       "      <td>0</td>\n",
       "      <td>0</td>\n",
       "      <td>0</td>\n",
       "      <td>0</td>\n",
       "      <td>8</td>\n",
       "      <td>0</td>\n",
       "      <td>0</td>\n",
       "      <td>0</td>\n",
       "      <td>0</td>\n",
       "      <td>0</td>\n",
       "      <td>0</td>\n",
       "      <td>0</td>\n",
       "      <td>0</td>\n",
       "      <td>0</td>\n",
       "    </tr>\n",
       "    <tr>\n",
       "      <th>1</th>\n",
       "      <td>0</td>\n",
       "      <td>0</td>\n",
       "      <td>2</td>\n",
       "      <td>0</td>\n",
       "      <td>0</td>\n",
       "      <td>0</td>\n",
       "      <td>0</td>\n",
       "      <td>0</td>\n",
       "      <td>0</td>\n",
       "      <td>1</td>\n",
       "      <td>0</td>\n",
       "      <td>0</td>\n",
       "      <td>1</td>\n",
       "      <td>0</td>\n",
       "      <td>0</td>\n",
       "      <td>1</td>\n",
       "      <td>0</td>\n",
       "      <td>0</td>\n",
       "      <td>0</td>\n",
       "      <td>0</td>\n",
       "    </tr>\n",
       "    <tr>\n",
       "      <th>2</th>\n",
       "      <td>0</td>\n",
       "      <td>0</td>\n",
       "      <td>0</td>\n",
       "      <td>0</td>\n",
       "      <td>0</td>\n",
       "      <td>0</td>\n",
       "      <td>0</td>\n",
       "      <td>0</td>\n",
       "      <td>0</td>\n",
       "      <td>1</td>\n",
       "      <td>0</td>\n",
       "      <td>0</td>\n",
       "      <td>0</td>\n",
       "      <td>0</td>\n",
       "      <td>0</td>\n",
       "      <td>0</td>\n",
       "      <td>0</td>\n",
       "      <td>0</td>\n",
       "      <td>0</td>\n",
       "      <td>0</td>\n",
       "    </tr>\n",
       "    <tr>\n",
       "      <th>3</th>\n",
       "      <td>0</td>\n",
       "      <td>0</td>\n",
       "      <td>0</td>\n",
       "      <td>0</td>\n",
       "      <td>0</td>\n",
       "      <td>2</td>\n",
       "      <td>0</td>\n",
       "      <td>0</td>\n",
       "      <td>0</td>\n",
       "      <td>0</td>\n",
       "      <td>0</td>\n",
       "      <td>0</td>\n",
       "      <td>0</td>\n",
       "      <td>0</td>\n",
       "      <td>0</td>\n",
       "      <td>0</td>\n",
       "      <td>0</td>\n",
       "      <td>0</td>\n",
       "      <td>0</td>\n",
       "      <td>0</td>\n",
       "    </tr>\n",
       "    <tr>\n",
       "      <th>4</th>\n",
       "      <td>0</td>\n",
       "      <td>0</td>\n",
       "      <td>0</td>\n",
       "      <td>1</td>\n",
       "      <td>0</td>\n",
       "      <td>0</td>\n",
       "      <td>0</td>\n",
       "      <td>0</td>\n",
       "      <td>1</td>\n",
       "      <td>0</td>\n",
       "      <td>0</td>\n",
       "      <td>0</td>\n",
       "      <td>0</td>\n",
       "      <td>0</td>\n",
       "      <td>0</td>\n",
       "      <td>0</td>\n",
       "      <td>0</td>\n",
       "      <td>0</td>\n",
       "      <td>0</td>\n",
       "      <td>0</td>\n",
       "    </tr>\n",
       "    <tr>\n",
       "      <th>...</th>\n",
       "      <td>...</td>\n",
       "      <td>...</td>\n",
       "      <td>...</td>\n",
       "      <td>...</td>\n",
       "      <td>...</td>\n",
       "      <td>...</td>\n",
       "      <td>...</td>\n",
       "      <td>...</td>\n",
       "      <td>...</td>\n",
       "      <td>...</td>\n",
       "      <td>...</td>\n",
       "      <td>...</td>\n",
       "      <td>...</td>\n",
       "      <td>...</td>\n",
       "      <td>...</td>\n",
       "      <td>...</td>\n",
       "      <td>...</td>\n",
       "      <td>...</td>\n",
       "      <td>...</td>\n",
       "      <td>...</td>\n",
       "    </tr>\n",
       "    <tr>\n",
       "      <th>391</th>\n",
       "      <td>0</td>\n",
       "      <td>0</td>\n",
       "      <td>0</td>\n",
       "      <td>0</td>\n",
       "      <td>0</td>\n",
       "      <td>0</td>\n",
       "      <td>0</td>\n",
       "      <td>0</td>\n",
       "      <td>0</td>\n",
       "      <td>0</td>\n",
       "      <td>0</td>\n",
       "      <td>0</td>\n",
       "      <td>0</td>\n",
       "      <td>0</td>\n",
       "      <td>0</td>\n",
       "      <td>1</td>\n",
       "      <td>0</td>\n",
       "      <td>0</td>\n",
       "      <td>0</td>\n",
       "      <td>0</td>\n",
       "    </tr>\n",
       "    <tr>\n",
       "      <th>392</th>\n",
       "      <td>0</td>\n",
       "      <td>0</td>\n",
       "      <td>0</td>\n",
       "      <td>0</td>\n",
       "      <td>0</td>\n",
       "      <td>0</td>\n",
       "      <td>0</td>\n",
       "      <td>0</td>\n",
       "      <td>0</td>\n",
       "      <td>0</td>\n",
       "      <td>0</td>\n",
       "      <td>0</td>\n",
       "      <td>0</td>\n",
       "      <td>0</td>\n",
       "      <td>0</td>\n",
       "      <td>1</td>\n",
       "      <td>0</td>\n",
       "      <td>0</td>\n",
       "      <td>0</td>\n",
       "      <td>0</td>\n",
       "    </tr>\n",
       "    <tr>\n",
       "      <th>393</th>\n",
       "      <td>0</td>\n",
       "      <td>0</td>\n",
       "      <td>0</td>\n",
       "      <td>0</td>\n",
       "      <td>2</td>\n",
       "      <td>0</td>\n",
       "      <td>0</td>\n",
       "      <td>0</td>\n",
       "      <td>0</td>\n",
       "      <td>0</td>\n",
       "      <td>0</td>\n",
       "      <td>0</td>\n",
       "      <td>0</td>\n",
       "      <td>0</td>\n",
       "      <td>0</td>\n",
       "      <td>0</td>\n",
       "      <td>0</td>\n",
       "      <td>0</td>\n",
       "      <td>0</td>\n",
       "      <td>0</td>\n",
       "    </tr>\n",
       "    <tr>\n",
       "      <th>394</th>\n",
       "      <td>0</td>\n",
       "      <td>0</td>\n",
       "      <td>0</td>\n",
       "      <td>0</td>\n",
       "      <td>0</td>\n",
       "      <td>0</td>\n",
       "      <td>0</td>\n",
       "      <td>0</td>\n",
       "      <td>0</td>\n",
       "      <td>0</td>\n",
       "      <td>0</td>\n",
       "      <td>0</td>\n",
       "      <td>0</td>\n",
       "      <td>0</td>\n",
       "      <td>0</td>\n",
       "      <td>1</td>\n",
       "      <td>1</td>\n",
       "      <td>0</td>\n",
       "      <td>0</td>\n",
       "      <td>0</td>\n",
       "    </tr>\n",
       "    <tr>\n",
       "      <th>395</th>\n",
       "      <td>0</td>\n",
       "      <td>0</td>\n",
       "      <td>0</td>\n",
       "      <td>0</td>\n",
       "      <td>0</td>\n",
       "      <td>0</td>\n",
       "      <td>0</td>\n",
       "      <td>0</td>\n",
       "      <td>0</td>\n",
       "      <td>0</td>\n",
       "      <td>1</td>\n",
       "      <td>0</td>\n",
       "      <td>1</td>\n",
       "      <td>0</td>\n",
       "      <td>0</td>\n",
       "      <td>0</td>\n",
       "      <td>0</td>\n",
       "      <td>0</td>\n",
       "      <td>0</td>\n",
       "      <td>0</td>\n",
       "    </tr>\n",
       "  </tbody>\n",
       "</table>\n",
       "<p>396 rows × 20 columns</p>\n",
       "</div>"
      ],
      "text/plain": [
       "     A  C  D  E  F  G  H  I  K  L  M  N  P  Q  R  S  T  V  W  Y\n",
       "0    0  0  0  0  0  0  0  0  0  0  8  0  0  0  0  0  0  0  0  0\n",
       "1    0  0  2  0  0  0  0  0  0  1  0  0  1  0  0  1  0  0  0  0\n",
       "2    0  0  0  0  0  0  0  0  0  1  0  0  0  0  0  0  0  0  0  0\n",
       "3    0  0  0  0  0  2  0  0  0  0  0  0  0  0  0  0  0  0  0  0\n",
       "4    0  0  0  1  0  0  0  0  1  0  0  0  0  0  0  0  0  0  0  0\n",
       "..  .. .. .. .. .. .. .. .. .. .. .. .. .. .. .. .. .. .. .. ..\n",
       "391  0  0  0  0  0  0  0  0  0  0  0  0  0  0  0  1  0  0  0  0\n",
       "392  0  0  0  0  0  0  0  0  0  0  0  0  0  0  0  1  0  0  0  0\n",
       "393  0  0  0  0  2  0  0  0  0  0  0  0  0  0  0  0  0  0  0  0\n",
       "394  0  0  0  0  0  0  0  0  0  0  0  0  0  0  0  1  1  0  0  0\n",
       "395  0  0  0  0  0  0  0  0  0  0  1  0  1  0  0  0  0  0  0  0\n",
       "\n",
       "[396 rows x 20 columns]"
      ]
     },
     "execution_count": 15,
     "metadata": {},
     "output_type": "execute_result"
    }
   ],
   "source": [
    "CCR_align = alnDF(CCR_alignment)\n",
    "CCR_align"
   ]
  },
  {
   "cell_type": "code",
   "execution_count": 16,
   "id": "1eaf37a5",
   "metadata": {
    "scrolled": true
   },
   "outputs": [
    {
     "data": {
      "text/html": [
       "<div>\n",
       "<style scoped>\n",
       "    .dataframe tbody tr th:only-of-type {\n",
       "        vertical-align: middle;\n",
       "    }\n",
       "\n",
       "    .dataframe tbody tr th {\n",
       "        vertical-align: top;\n",
       "    }\n",
       "\n",
       "    .dataframe thead th {\n",
       "        text-align: right;\n",
       "    }\n",
       "</style>\n",
       "<table border=\"1\" class=\"dataframe\">\n",
       "  <thead>\n",
       "    <tr style=\"text-align: right;\">\n",
       "      <th></th>\n",
       "      <th>A</th>\n",
       "      <th>C</th>\n",
       "      <th>D</th>\n",
       "      <th>E</th>\n",
       "      <th>F</th>\n",
       "      <th>G</th>\n",
       "      <th>H</th>\n",
       "      <th>I</th>\n",
       "      <th>K</th>\n",
       "      <th>L</th>\n",
       "      <th>M</th>\n",
       "      <th>N</th>\n",
       "      <th>P</th>\n",
       "      <th>Q</th>\n",
       "      <th>R</th>\n",
       "      <th>S</th>\n",
       "      <th>T</th>\n",
       "      <th>V</th>\n",
       "      <th>W</th>\n",
       "      <th>Y</th>\n",
       "    </tr>\n",
       "  </thead>\n",
       "  <tbody>\n",
       "    <tr>\n",
       "      <th>0</th>\n",
       "      <td>0.0</td>\n",
       "      <td>0.0</td>\n",
       "      <td>0.0</td>\n",
       "      <td>0.0</td>\n",
       "      <td>0.0</td>\n",
       "      <td>0.0</td>\n",
       "      <td>0.0</td>\n",
       "      <td>0.0</td>\n",
       "      <td>0.0</td>\n",
       "      <td>0.0</td>\n",
       "      <td>1.0</td>\n",
       "      <td>0.0</td>\n",
       "      <td>0.0</td>\n",
       "      <td>0.0</td>\n",
       "      <td>0.0</td>\n",
       "      <td>0.0</td>\n",
       "      <td>0.0</td>\n",
       "      <td>0.0</td>\n",
       "      <td>0.0</td>\n",
       "      <td>0.0</td>\n",
       "    </tr>\n",
       "    <tr>\n",
       "      <th>1</th>\n",
       "      <td>0.0</td>\n",
       "      <td>0.0</td>\n",
       "      <td>0.4</td>\n",
       "      <td>0.0</td>\n",
       "      <td>0.0</td>\n",
       "      <td>0.0</td>\n",
       "      <td>0.0</td>\n",
       "      <td>0.0</td>\n",
       "      <td>0.0</td>\n",
       "      <td>0.2</td>\n",
       "      <td>0.0</td>\n",
       "      <td>0.0</td>\n",
       "      <td>0.2</td>\n",
       "      <td>0.0</td>\n",
       "      <td>0.0</td>\n",
       "      <td>0.2</td>\n",
       "      <td>0.0</td>\n",
       "      <td>0.0</td>\n",
       "      <td>0.0</td>\n",
       "      <td>0.0</td>\n",
       "    </tr>\n",
       "    <tr>\n",
       "      <th>2</th>\n",
       "      <td>0.0</td>\n",
       "      <td>0.0</td>\n",
       "      <td>0.0</td>\n",
       "      <td>0.0</td>\n",
       "      <td>0.0</td>\n",
       "      <td>0.0</td>\n",
       "      <td>0.0</td>\n",
       "      <td>0.0</td>\n",
       "      <td>0.0</td>\n",
       "      <td>1.0</td>\n",
       "      <td>0.0</td>\n",
       "      <td>0.0</td>\n",
       "      <td>0.0</td>\n",
       "      <td>0.0</td>\n",
       "      <td>0.0</td>\n",
       "      <td>0.0</td>\n",
       "      <td>0.0</td>\n",
       "      <td>0.0</td>\n",
       "      <td>0.0</td>\n",
       "      <td>0.0</td>\n",
       "    </tr>\n",
       "    <tr>\n",
       "      <th>3</th>\n",
       "      <td>0.0</td>\n",
       "      <td>0.0</td>\n",
       "      <td>0.0</td>\n",
       "      <td>0.0</td>\n",
       "      <td>0.0</td>\n",
       "      <td>1.0</td>\n",
       "      <td>0.0</td>\n",
       "      <td>0.0</td>\n",
       "      <td>0.0</td>\n",
       "      <td>0.0</td>\n",
       "      <td>0.0</td>\n",
       "      <td>0.0</td>\n",
       "      <td>0.0</td>\n",
       "      <td>0.0</td>\n",
       "      <td>0.0</td>\n",
       "      <td>0.0</td>\n",
       "      <td>0.0</td>\n",
       "      <td>0.0</td>\n",
       "      <td>0.0</td>\n",
       "      <td>0.0</td>\n",
       "    </tr>\n",
       "    <tr>\n",
       "      <th>4</th>\n",
       "      <td>0.0</td>\n",
       "      <td>0.0</td>\n",
       "      <td>0.0</td>\n",
       "      <td>0.5</td>\n",
       "      <td>0.0</td>\n",
       "      <td>0.0</td>\n",
       "      <td>0.0</td>\n",
       "      <td>0.0</td>\n",
       "      <td>0.5</td>\n",
       "      <td>0.0</td>\n",
       "      <td>0.0</td>\n",
       "      <td>0.0</td>\n",
       "      <td>0.0</td>\n",
       "      <td>0.0</td>\n",
       "      <td>0.0</td>\n",
       "      <td>0.0</td>\n",
       "      <td>0.0</td>\n",
       "      <td>0.0</td>\n",
       "      <td>0.0</td>\n",
       "      <td>0.0</td>\n",
       "    </tr>\n",
       "    <tr>\n",
       "      <th>...</th>\n",
       "      <td>...</td>\n",
       "      <td>...</td>\n",
       "      <td>...</td>\n",
       "      <td>...</td>\n",
       "      <td>...</td>\n",
       "      <td>...</td>\n",
       "      <td>...</td>\n",
       "      <td>...</td>\n",
       "      <td>...</td>\n",
       "      <td>...</td>\n",
       "      <td>...</td>\n",
       "      <td>...</td>\n",
       "      <td>...</td>\n",
       "      <td>...</td>\n",
       "      <td>...</td>\n",
       "      <td>...</td>\n",
       "      <td>...</td>\n",
       "      <td>...</td>\n",
       "      <td>...</td>\n",
       "      <td>...</td>\n",
       "    </tr>\n",
       "    <tr>\n",
       "      <th>391</th>\n",
       "      <td>0.0</td>\n",
       "      <td>0.0</td>\n",
       "      <td>0.0</td>\n",
       "      <td>0.0</td>\n",
       "      <td>0.0</td>\n",
       "      <td>0.0</td>\n",
       "      <td>0.0</td>\n",
       "      <td>0.0</td>\n",
       "      <td>0.0</td>\n",
       "      <td>0.0</td>\n",
       "      <td>0.0</td>\n",
       "      <td>0.0</td>\n",
       "      <td>0.0</td>\n",
       "      <td>0.0</td>\n",
       "      <td>0.0</td>\n",
       "      <td>1.0</td>\n",
       "      <td>0.0</td>\n",
       "      <td>0.0</td>\n",
       "      <td>0.0</td>\n",
       "      <td>0.0</td>\n",
       "    </tr>\n",
       "    <tr>\n",
       "      <th>392</th>\n",
       "      <td>0.0</td>\n",
       "      <td>0.0</td>\n",
       "      <td>0.0</td>\n",
       "      <td>0.0</td>\n",
       "      <td>0.0</td>\n",
       "      <td>0.0</td>\n",
       "      <td>0.0</td>\n",
       "      <td>0.0</td>\n",
       "      <td>0.0</td>\n",
       "      <td>0.0</td>\n",
       "      <td>0.0</td>\n",
       "      <td>0.0</td>\n",
       "      <td>0.0</td>\n",
       "      <td>0.0</td>\n",
       "      <td>0.0</td>\n",
       "      <td>1.0</td>\n",
       "      <td>0.0</td>\n",
       "      <td>0.0</td>\n",
       "      <td>0.0</td>\n",
       "      <td>0.0</td>\n",
       "    </tr>\n",
       "    <tr>\n",
       "      <th>393</th>\n",
       "      <td>0.0</td>\n",
       "      <td>0.0</td>\n",
       "      <td>0.0</td>\n",
       "      <td>0.0</td>\n",
       "      <td>1.0</td>\n",
       "      <td>0.0</td>\n",
       "      <td>0.0</td>\n",
       "      <td>0.0</td>\n",
       "      <td>0.0</td>\n",
       "      <td>0.0</td>\n",
       "      <td>0.0</td>\n",
       "      <td>0.0</td>\n",
       "      <td>0.0</td>\n",
       "      <td>0.0</td>\n",
       "      <td>0.0</td>\n",
       "      <td>0.0</td>\n",
       "      <td>0.0</td>\n",
       "      <td>0.0</td>\n",
       "      <td>0.0</td>\n",
       "      <td>0.0</td>\n",
       "    </tr>\n",
       "    <tr>\n",
       "      <th>394</th>\n",
       "      <td>0.0</td>\n",
       "      <td>0.0</td>\n",
       "      <td>0.0</td>\n",
       "      <td>0.0</td>\n",
       "      <td>0.0</td>\n",
       "      <td>0.0</td>\n",
       "      <td>0.0</td>\n",
       "      <td>0.0</td>\n",
       "      <td>0.0</td>\n",
       "      <td>0.0</td>\n",
       "      <td>0.0</td>\n",
       "      <td>0.0</td>\n",
       "      <td>0.0</td>\n",
       "      <td>0.0</td>\n",
       "      <td>0.0</td>\n",
       "      <td>0.5</td>\n",
       "      <td>0.5</td>\n",
       "      <td>0.0</td>\n",
       "      <td>0.0</td>\n",
       "      <td>0.0</td>\n",
       "    </tr>\n",
       "    <tr>\n",
       "      <th>395</th>\n",
       "      <td>0.0</td>\n",
       "      <td>0.0</td>\n",
       "      <td>0.0</td>\n",
       "      <td>0.0</td>\n",
       "      <td>0.0</td>\n",
       "      <td>0.0</td>\n",
       "      <td>0.0</td>\n",
       "      <td>0.0</td>\n",
       "      <td>0.0</td>\n",
       "      <td>0.0</td>\n",
       "      <td>0.5</td>\n",
       "      <td>0.0</td>\n",
       "      <td>0.5</td>\n",
       "      <td>0.0</td>\n",
       "      <td>0.0</td>\n",
       "      <td>0.0</td>\n",
       "      <td>0.0</td>\n",
       "      <td>0.0</td>\n",
       "      <td>0.0</td>\n",
       "      <td>0.0</td>\n",
       "    </tr>\n",
       "  </tbody>\n",
       "</table>\n",
       "<p>396 rows × 20 columns</p>\n",
       "</div>"
      ],
      "text/plain": [
       "       A    C    D    E    F    G    H    I    K    L    M    N    P    Q  \\\n",
       "0    0.0  0.0  0.0  0.0  0.0  0.0  0.0  0.0  0.0  0.0  1.0  0.0  0.0  0.0   \n",
       "1    0.0  0.0  0.4  0.0  0.0  0.0  0.0  0.0  0.0  0.2  0.0  0.0  0.2  0.0   \n",
       "2    0.0  0.0  0.0  0.0  0.0  0.0  0.0  0.0  0.0  1.0  0.0  0.0  0.0  0.0   \n",
       "3    0.0  0.0  0.0  0.0  0.0  1.0  0.0  0.0  0.0  0.0  0.0  0.0  0.0  0.0   \n",
       "4    0.0  0.0  0.0  0.5  0.0  0.0  0.0  0.0  0.5  0.0  0.0  0.0  0.0  0.0   \n",
       "..   ...  ...  ...  ...  ...  ...  ...  ...  ...  ...  ...  ...  ...  ...   \n",
       "391  0.0  0.0  0.0  0.0  0.0  0.0  0.0  0.0  0.0  0.0  0.0  0.0  0.0  0.0   \n",
       "392  0.0  0.0  0.0  0.0  0.0  0.0  0.0  0.0  0.0  0.0  0.0  0.0  0.0  0.0   \n",
       "393  0.0  0.0  0.0  0.0  1.0  0.0  0.0  0.0  0.0  0.0  0.0  0.0  0.0  0.0   \n",
       "394  0.0  0.0  0.0  0.0  0.0  0.0  0.0  0.0  0.0  0.0  0.0  0.0  0.0  0.0   \n",
       "395  0.0  0.0  0.0  0.0  0.0  0.0  0.0  0.0  0.0  0.0  0.5  0.0  0.5  0.0   \n",
       "\n",
       "       R    S    T    V    W    Y  \n",
       "0    0.0  0.0  0.0  0.0  0.0  0.0  \n",
       "1    0.0  0.2  0.0  0.0  0.0  0.0  \n",
       "2    0.0  0.0  0.0  0.0  0.0  0.0  \n",
       "3    0.0  0.0  0.0  0.0  0.0  0.0  \n",
       "4    0.0  0.0  0.0  0.0  0.0  0.0  \n",
       "..   ...  ...  ...  ...  ...  ...  \n",
       "391  0.0  1.0  0.0  0.0  0.0  0.0  \n",
       "392  0.0  1.0  0.0  0.0  0.0  0.0  \n",
       "393  0.0  0.0  0.0  0.0  0.0  0.0  \n",
       "394  0.0  0.5  0.5  0.0  0.0  0.0  \n",
       "395  0.0  0.0  0.0  0.0  0.0  0.0  \n",
       "\n",
       "[396 rows x 20 columns]"
      ]
     },
     "execution_count": 16,
     "metadata": {},
     "output_type": "execute_result"
    }
   ],
   "source": [
    "CCR_alignFreq = CCR_align.div(CCR_align.sum(axis=1), axis=0)\n",
    "CCR_alignFreq"
   ]
  },
  {
   "cell_type": "code",
   "execution_count": 17,
   "id": "73b0f1d4",
   "metadata": {},
   "outputs": [
    {
     "ename": "OSError",
     "evalue": "Could not find Ghostscript on path. There should be either a gs executable or a gswin32c.exe on your system's path",
     "output_type": "error",
     "traceback": [
      "\u001b[1;31m---------------------------------------------------------------------------\u001b[0m",
      "\u001b[1;31mOSError\u001b[0m                                   Traceback (most recent call last)",
      "\u001b[1;32m~\\AppData\\Local\\Temp/ipykernel_10828/4136399322.py\u001b[0m in \u001b[0;36m<module>\u001b[1;34m\u001b[0m\n\u001b[0;32m      1\u001b[0m \u001b[0mCCR_seqLogo\u001b[0m\u001b[1;33m=\u001b[0m \u001b[0mseqlogo\u001b[0m\u001b[1;33m.\u001b[0m\u001b[0mPpm\u001b[0m\u001b[1;33m(\u001b[0m\u001b[0mCCR_alignFreq\u001b[0m\u001b[1;33m,\u001b[0m\u001b[0malphabet_type\u001b[0m\u001b[1;33m=\u001b[0m\u001b[1;34m\"AA\"\u001b[0m\u001b[1;33m)\u001b[0m\u001b[1;33m\u001b[0m\u001b[1;33m\u001b[0m\u001b[0m\n\u001b[1;32m----> 2\u001b[1;33m \u001b[0mseqlogo\u001b[0m\u001b[1;33m.\u001b[0m\u001b[0mseqlogo\u001b[0m\u001b[1;33m(\u001b[0m\u001b[0mCCR_seqLogo\u001b[0m\u001b[1;33m,\u001b[0m \u001b[0mic_scale\u001b[0m \u001b[1;33m=\u001b[0m \u001b[1;32mFalse\u001b[0m\u001b[1;33m,\u001b[0m \u001b[0mformat\u001b[0m \u001b[1;33m=\u001b[0m \u001b[1;34m'jpeg'\u001b[0m\u001b[1;33m,\u001b[0m \u001b[0msize\u001b[0m \u001b[1;33m=\u001b[0m \u001b[1;34m'large'\u001b[0m\u001b[1;33m)\u001b[0m\u001b[1;33m\u001b[0m\u001b[1;33m\u001b[0m\u001b[0m\n\u001b[0m",
      "\u001b[1;32m~\\anaconda3\\lib\\site-packages\\seqlogo\\seqlogo.py\u001b[0m in \u001b[0;36mseqlogo\u001b[1;34m(pm, ic_scale, color_scheme, size, format, filename, **kwargs)\u001b[0m\n\u001b[0;32m     89\u001b[0m     \u001b[0mlogo_format\u001b[0m \u001b[1;33m=\u001b[0m \u001b[0mwl\u001b[0m\u001b[1;33m.\u001b[0m\u001b[0mLogoFormat\u001b[0m\u001b[1;33m(\u001b[0m\u001b[0mpm\u001b[0m\u001b[1;33m,\u001b[0m \u001b[0moptions\u001b[0m\u001b[1;33m)\u001b[0m\u001b[1;33m\u001b[0m\u001b[1;33m\u001b[0m\u001b[0m\n\u001b[0;32m     90\u001b[0m \u001b[1;33m\u001b[0m\u001b[0m\n\u001b[1;32m---> 91\u001b[1;33m     \u001b[0mout\u001b[0m \u001b[1;33m=\u001b[0m \u001b[0mout_format\u001b[0m\u001b[1;33m(\u001b[0m\u001b[0mpm\u001b[0m\u001b[1;33m,\u001b[0m \u001b[0mlogo_format\u001b[0m\u001b[1;33m)\u001b[0m\u001b[1;33m\u001b[0m\u001b[1;33m\u001b[0m\u001b[0m\n\u001b[0m\u001b[0;32m     92\u001b[0m \u001b[1;33m\u001b[0m\u001b[0m\n\u001b[0;32m     93\u001b[0m     \u001b[1;31m# Create the file if the user supplied an filename\u001b[0m\u001b[1;33m\u001b[0m\u001b[1;33m\u001b[0m\u001b[0m\n",
      "\u001b[1;32m~\\anaconda3\\lib\\site-packages\\weblogo\\logo_formatter.py\u001b[0m in \u001b[0;36mjpeg_formatter\u001b[1;34m(logodata, logoformat)\u001b[0m\n\u001b[0;32m     65\u001b[0m \u001b[1;32mdef\u001b[0m \u001b[0mjpeg_formatter\u001b[0m\u001b[1;33m(\u001b[0m\u001b[0mlogodata\u001b[0m\u001b[1;33m:\u001b[0m \u001b[0mLogoData\u001b[0m\u001b[1;33m,\u001b[0m \u001b[0mlogoformat\u001b[0m\u001b[1;33m:\u001b[0m \u001b[0mLogoFormat\u001b[0m\u001b[1;33m)\u001b[0m \u001b[1;33m->\u001b[0m \u001b[0mbytes\u001b[0m\u001b[1;33m:\u001b[0m\u001b[1;33m\u001b[0m\u001b[1;33m\u001b[0m\u001b[0m\n\u001b[0;32m     66\u001b[0m     \u001b[1;34m\"\"\"Generate a logo in JPEG format.\"\"\"\u001b[0m\u001b[1;33m\u001b[0m\u001b[1;33m\u001b[0m\u001b[0m\n\u001b[1;32m---> 67\u001b[1;33m     \u001b[1;32mreturn\u001b[0m \u001b[0m_bitmap_formatter\u001b[0m\u001b[1;33m(\u001b[0m\u001b[0mlogodata\u001b[0m\u001b[1;33m,\u001b[0m \u001b[0mlogoformat\u001b[0m\u001b[1;33m,\u001b[0m \u001b[0mdevice\u001b[0m\u001b[1;33m=\u001b[0m\u001b[1;34m\"jpeg\"\u001b[0m\u001b[1;33m)\u001b[0m\u001b[1;33m\u001b[0m\u001b[1;33m\u001b[0m\u001b[0m\n\u001b[0m\u001b[0;32m     68\u001b[0m \u001b[1;33m\u001b[0m\u001b[0m\n\u001b[0;32m     69\u001b[0m \u001b[1;33m\u001b[0m\u001b[0m\n",
      "\u001b[1;32m~\\anaconda3\\lib\\site-packages\\weblogo\\logo_formatter.py\u001b[0m in \u001b[0;36m_bitmap_formatter\u001b[1;34m(logodata, logoformat, device)\u001b[0m\n\u001b[0;32m     53\u001b[0m \u001b[1;32mdef\u001b[0m \u001b[0m_bitmap_formatter\u001b[0m\u001b[1;33m(\u001b[0m\u001b[0mlogodata\u001b[0m\u001b[1;33m:\u001b[0m \u001b[0mLogoData\u001b[0m\u001b[1;33m,\u001b[0m \u001b[0mlogoformat\u001b[0m\u001b[1;33m:\u001b[0m \u001b[0mLogoFormat\u001b[0m\u001b[1;33m,\u001b[0m \u001b[0mdevice\u001b[0m\u001b[1;33m:\u001b[0m \u001b[0mstr\u001b[0m\u001b[1;33m)\u001b[0m \u001b[1;33m->\u001b[0m \u001b[0mbytes\u001b[0m\u001b[1;33m:\u001b[0m\u001b[1;33m\u001b[0m\u001b[1;33m\u001b[0m\u001b[0m\n\u001b[0;32m     54\u001b[0m     \u001b[0meps\u001b[0m \u001b[1;33m=\u001b[0m \u001b[0meps_formatter\u001b[0m\u001b[1;33m(\u001b[0m\u001b[0mlogodata\u001b[0m\u001b[1;33m,\u001b[0m \u001b[0mlogoformat\u001b[0m\u001b[1;33m)\u001b[0m\u001b[1;33m.\u001b[0m\u001b[0mdecode\u001b[0m\u001b[1;33m(\u001b[0m\u001b[1;33m)\u001b[0m\u001b[1;33m\u001b[0m\u001b[1;33m\u001b[0m\u001b[0m\n\u001b[1;32m---> 55\u001b[1;33m     \u001b[0mgs\u001b[0m \u001b[1;33m=\u001b[0m \u001b[0mGhostscriptAPI\u001b[0m\u001b[1;33m(\u001b[0m\u001b[1;33m)\u001b[0m\u001b[1;33m\u001b[0m\u001b[1;33m\u001b[0m\u001b[0m\n\u001b[0m\u001b[0;32m     56\u001b[0m     return gs.convert(\n\u001b[0;32m     57\u001b[0m         \u001b[0mdevice\u001b[0m\u001b[1;33m,\u001b[0m\u001b[1;33m\u001b[0m\u001b[1;33m\u001b[0m\u001b[0m\n",
      "\u001b[1;32m~\\anaconda3\\lib\\site-packages\\weblogo\\logo_formatter.py\u001b[0m in \u001b[0;36m__init__\u001b[1;34m(self, path)\u001b[0m\n\u001b[0;32m    326\u001b[0m             \u001b[0mcommand\u001b[0m \u001b[1;33m=\u001b[0m \u001b[0mshutil\u001b[0m\u001b[1;33m.\u001b[0m\u001b[0mwhich\u001b[0m\u001b[1;33m(\u001b[0m\u001b[1;34m\"gswin32c.exe\"\u001b[0m\u001b[1;33m,\u001b[0m \u001b[0mpath\u001b[0m\u001b[1;33m=\u001b[0m\u001b[0mpath\u001b[0m\u001b[1;33m)\u001b[0m  \u001b[1;31m# pragma: no cover\u001b[0m\u001b[1;33m\u001b[0m\u001b[1;33m\u001b[0m\u001b[0m\n\u001b[0;32m    327\u001b[0m         \u001b[1;32mif\u001b[0m \u001b[0mcommand\u001b[0m \u001b[1;32mis\u001b[0m \u001b[1;32mNone\u001b[0m\u001b[1;33m:\u001b[0m\u001b[1;33m\u001b[0m\u001b[1;33m\u001b[0m\u001b[0m\n\u001b[1;32m--> 328\u001b[1;33m             raise EnvironmentError(\n\u001b[0m\u001b[0;32m    329\u001b[0m                 \u001b[1;34m\"Could not find Ghostscript on path. \"\u001b[0m\u001b[1;33m\u001b[0m\u001b[1;33m\u001b[0m\u001b[0m\n\u001b[0;32m    330\u001b[0m                 \u001b[1;34m\"There should be either a gs executable or a gswin32c.exe on \"\u001b[0m\u001b[1;33m\u001b[0m\u001b[1;33m\u001b[0m\u001b[0m\n",
      "\u001b[1;31mOSError\u001b[0m: Could not find Ghostscript on path. There should be either a gs executable or a gswin32c.exe on your system's path"
     ]
    }
   ],
   "source": [
    "CCR_seqLogo= seqlogo.Ppm(CCR_alignFreq,alphabet_type=\"AA\")\n",
    "seqlogo.seqlogo(CCR_seqLogo, ic_scale = False, format = 'jpeg', size = 'large')"
   ]
  },
  {
   "cell_type": "markdown",
   "id": "ff653115",
   "metadata": {},
   "source": [
    "### Result\n",
    "Structure of CCR5 with C20S or C101A mutation does not show great variation from the wildtype. Structure of CCR5 with delta-32 mutation shows that this mutation will cause this protein to lose its conformational integrety. Since CCR5 is required for HIV entry into the cell by forming CD4-gp120-CCR5 complex, delta-32 mutation is expected to hinder the function of CCR5 as coreceptor for HIV entrance. This could result in the development of HIV resistance, which is proven by research demonstrating that people with CCR5-delta-32 allele are resitant to HIV infection. Although C20S and C101A mutation do not seeme to influence the overall secondary structure of CCR5 based on result from homology modeling, point mutation in cystine could result in a loss of disulfide bond, which could also influence the conformation of the protein. Therefore, these two mutation could also hinder the ability of CCR5 serving as coreceptor of HIV entry into host cells. This is also proven by research demonstrating that cells carrying genes with C20S mutation or C101A mutation have reduced expression level of CCR5 at cell surface, which in turn reduced HIV infection. Therefore, it is likely that a mutation in CCR5 which could alter the structure of the protein and reduce its expression at cells surface could cause the development of HIV resistance. Interestingly, the two point mutations analyzed, C20S and C101A, both occured in highly conserved region throughout beta-chemokine receptor."
   ]
  },
  {
   "cell_type": "code",
   "execution_count": null,
   "id": "4e3a4a16",
   "metadata": {},
   "outputs": [],
   "source": []
  }
 ],
 "metadata": {
  "kernelspec": {
   "display_name": "Python 3 (ipykernel)",
   "language": "python",
   "name": "python3"
  },
  "language_info": {
   "codemirror_mode": {
    "name": "ipython",
    "version": 3
   },
   "file_extension": ".py",
   "mimetype": "text/x-python",
   "name": "python",
   "nbconvert_exporter": "python",
   "pygments_lexer": "ipython3",
   "version": "3.9.7"
  }
 },
 "nbformat": 4,
 "nbformat_minor": 5
}
